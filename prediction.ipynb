{
  "nbformat": 4,
  "nbformat_minor": 0,
  "metadata": {
    "colab": {
      "name": "prediction.ipynb",
      "provenance": [],
      "collapsed_sections": []
    },
    "kernelspec": {
      "name": "python3",
      "display_name": "Python 3"
    },
    "language_info": {
      "name": "python"
    },
    "accelerator": "GPU"
  },
  "cells": [
    {
      "cell_type": "markdown",
      "source": [
        "# MLofi: Predictions"
      ],
      "metadata": {
        "id": "gN_V-Fuhpy8y"
      }
    },
    {
      "cell_type": "markdown",
      "source": [
        "## Setup"
      ],
      "metadata": {
        "id": "UG7UJtgHp1j0"
      }
    },
    {
      "cell_type": "markdown",
      "source": [
        "### Hyperparameters"
      ],
      "metadata": {
        "id": "DOjoXFggsMi3"
      }
    },
    {
      "cell_type": "code",
      "source": [
        "sequence_length = 30\n",
        "# possible values [\"srnn\", \"lstm\", \"gru\"]\n",
        "model_type = \"lstm\""
      ],
      "metadata": {
        "id": "EVy72B0wsQov"
      },
      "execution_count": 1,
      "outputs": []
    },
    {
      "cell_type": "markdown",
      "source": [
        "### Imports"
      ],
      "metadata": {
        "id": "qlNxKVfvI1k-"
      }
    },
    {
      "cell_type": "code",
      "source": [
        "import tensorflow as tf\n",
        "from tensorflow import keras\n",
        "from tensorflow.keras import layers\n",
        "from tensorflow.keras.layers import Input, LSTM, Dense, Dropout, Concatenate, Activation\n",
        "\n",
        "from tensorflow.keras.layers import SimpleRNN, GRU\n",
        "\n",
        "from music21 import *\n",
        "\n",
        "import numpy as np\n",
        "\n",
        "import os\n",
        "import re"
      ],
      "metadata": {
        "id": "Wqta5GRAI_Qq"
      },
      "execution_count": 2,
      "outputs": []
    },
    {
      "cell_type": "markdown",
      "source": [
        "### Mount Google Drive to access the dataset"
      ],
      "metadata": {
        "id": "BGATY4WeI44L"
      }
    },
    {
      "cell_type": "code",
      "source": [
        "from google.colab import drive\n",
        "drive.mount('/content/drive')"
      ],
      "metadata": {
        "colab": {
          "base_uri": "https://localhost:8080/"
        },
        "id": "i1jAcKt9IKU1",
        "outputId": "2d69bc4d-9a28-4f07-d93c-858027be8b12"
      },
      "execution_count": 3,
      "outputs": [
        {
          "output_type": "stream",
          "name": "stdout",
          "text": [
            "Mounted at /content/drive\n"
          ]
        }
      ]
    },
    {
      "cell_type": "code",
      "source": [
        "def create_path(relative_path):\n",
        "  return f'/content/drive/My Drive/MLofi/{relative_path}'"
      ],
      "metadata": {
        "id": "oNxgm5xKJyJC"
      },
      "execution_count": 4,
      "outputs": []
    },
    {
      "cell_type": "code",
      "source": [
        "model_weights_path = create_path('weights/weights.hdf5')\n",
        "path_to_unique_notes = create_path('output/data/unique_notes.txt')"
      ],
      "metadata": {
        "id": "VsbgZVV7ss8n"
      },
      "execution_count": 5,
      "outputs": []
    },
    {
      "cell_type": "markdown",
      "source": [
        "### Read the note, chord and rest collection"
      ],
      "metadata": {
        "id": "h_32vobDqbao"
      }
    },
    {
      "cell_type": "code",
      "source": [
        "with open(path_to_unique_notes, \"r\") as f:\n",
        "  unique_notes = f.read().split(\"\\n\")\n",
        "note_to_index = dict([(note, index) for index, note in enumerate(unique_notes)])\n",
        "unique_note_count = len(unique_notes)"
      ],
      "metadata": {
        "id": "B903fMm4Taxl"
      },
      "execution_count": 6,
      "outputs": []
    },
    {
      "cell_type": "markdown",
      "source": [
        "## Defining the model"
      ],
      "metadata": {
        "id": "DWdhT13iqkVw"
      }
    },
    {
      "cell_type": "code",
      "source": [
        "if model_type == \"lstm\":\n",
        "  input = Input(shape=(sequence_length, unique_note_count))\n",
        "  hidden_1 = Dropout(0.3)(LSTM(700, return_sequences=True, recurrent_dropout=0.2)(input))\n",
        "  hidden_2 = Dropout(0.3)(LSTM(700, return_sequences=True, recurrent_dropout=0.2)(Concatenate()([input, hidden_1])))\n",
        "  hidden_3 = Dropout(0.3)(LSTM(700, return_sequences=True, recurrent_dropout=0.2)(Concatenate()([input, hidden_2])))\n",
        "  distribution_parameters = LSTM(700, recurrent_dropout=0.3)(Concatenate()([hidden_1, hidden_2, hidden_3]))\n",
        "  distribution = Dense(unique_note_count)(distribution_parameters)\n",
        "elif model_type == \"gru\":\n",
        "  input = Input(shape=(sequence_length, unique_note_count))\n",
        "  hidden_1 = Dropout(0.3)(GRU(700, return_sequences=True, recurrent_dropout=0.3)(input))\n",
        "  hidden_2 = Dropout(0.3)(GRU(700, return_sequences=True, recurrent_dropout=0.3)(Concatenate()([input, hidden_1])))\n",
        "  hidden_3 = Dropout(0.3)(GRU(700, return_sequences=True, recurrent_dropout=0.3)(Concatenate()([input, hidden_2])))\n",
        "  distribution_parameters = GRU(700, recurrent_dropout=0.3)(Concatenate()([hidden_1, hidden_2, hidden_3]))\n",
        "  distribution = Dense(unique_note_count)(distribution_parameters)\n",
        "elif model_type == \"srnn\":\n",
        "  input = Input(shape=(sequence_length, unique_note_count))\n",
        "  hidden_1 = Dropout(0.3)(SimpleRNN(700, return_sequences=True)(input))\n",
        "  hidden_2 = Dropout(0.3)(SimpleRNN(700, return_sequences=True)(Concatenate()([input, hidden_1])))\n",
        "  hidden_3 = Dropout(0.3)(SimpleRNN(700, return_sequences=True)(Concatenate()([input, hidden_2])))\n",
        "  distribution_parameters = SimpleRNN(700)(Concatenate()([hidden_1, hidden_2, hidden_3]))\n",
        "  distribution = Dense(unique_note_count)(distribution_parameters)\n",
        "\n",
        "output = Activation('softmax')(distribution)\n",
        "model = keras.Model(inputs=input, outputs=output, name='MLofi')"
      ],
      "metadata": {
        "id": "_fk3BUbreye-",
        "colab": {
          "base_uri": "https://localhost:8080/"
        },
        "outputId": "d49952e4-ce35-4dfd-83b3-5cbeebc0ec0f"
      },
      "execution_count": 7,
      "outputs": [
        {
          "output_type": "stream",
          "name": "stdout",
          "text": [
            "WARNING:tensorflow:Layer lstm will not use cuDNN kernels since it doesn't meet the criteria. It will use a generic GPU kernel as fallback when running on GPU.\n",
            "WARNING:tensorflow:Layer lstm_1 will not use cuDNN kernels since it doesn't meet the criteria. It will use a generic GPU kernel as fallback when running on GPU.\n",
            "WARNING:tensorflow:Layer lstm_2 will not use cuDNN kernels since it doesn't meet the criteria. It will use a generic GPU kernel as fallback when running on GPU.\n",
            "WARNING:tensorflow:Layer lstm_3 will not use cuDNN kernels since it doesn't meet the criteria. It will use a generic GPU kernel as fallback when running on GPU.\n"
          ]
        }
      ]
    },
    {
      "cell_type": "code",
      "source": [
        "model.summary()"
      ],
      "metadata": {
        "colab": {
          "base_uri": "https://localhost:8080/"
        },
        "id": "Oxj1YmY9_q26",
        "outputId": "e23aef8b-cbaf-4897-f6dd-c1dd8f494051"
      },
      "execution_count": 10,
      "outputs": [
        {
          "output_type": "stream",
          "name": "stdout",
          "text": [
            "Model: \"MLofi\"\n",
            "__________________________________________________________________________________________________\n",
            " Layer (type)                   Output Shape         Param #     Connected to                     \n",
            "==================================================================================================\n",
            " input_1 (InputLayer)           [(None, 30, 249)]    0           []                               \n",
            "                                                                                                  \n",
            " lstm (LSTM)                    (None, 30, 700)      2660000     ['input_1[0][0]']                \n",
            "                                                                                                  \n",
            " dropout (Dropout)              (None, 30, 700)      0           ['lstm[0][0]']                   \n",
            "                                                                                                  \n",
            " concatenate (Concatenate)      (None, 30, 949)      0           ['input_1[0][0]',                \n",
            "                                                                  'dropout[0][0]']                \n",
            "                                                                                                  \n",
            " lstm_1 (LSTM)                  (None, 30, 700)      4620000     ['concatenate[0][0]']            \n",
            "                                                                                                  \n",
            " dropout_1 (Dropout)            (None, 30, 700)      0           ['lstm_1[0][0]']                 \n",
            "                                                                                                  \n",
            " concatenate_1 (Concatenate)    (None, 30, 949)      0           ['input_1[0][0]',                \n",
            "                                                                  'dropout_1[0][0]']              \n",
            "                                                                                                  \n",
            " lstm_2 (LSTM)                  (None, 30, 700)      4620000     ['concatenate_1[0][0]']          \n",
            "                                                                                                  \n",
            " dropout_2 (Dropout)            (None, 30, 700)      0           ['lstm_2[0][0]']                 \n",
            "                                                                                                  \n",
            " concatenate_2 (Concatenate)    (None, 30, 2100)     0           ['dropout[0][0]',                \n",
            "                                                                  'dropout_1[0][0]',              \n",
            "                                                                  'dropout_2[0][0]']              \n",
            "                                                                                                  \n",
            " lstm_3 (LSTM)                  (None, 700)          7842800     ['concatenate_2[0][0]']          \n",
            "                                                                                                  \n",
            " dense (Dense)                  (None, 249)          174549      ['lstm_3[0][0]']                 \n",
            "                                                                                                  \n",
            " activation (Activation)        (None, 249)          0           ['dense[0][0]']                  \n",
            "                                                                                                  \n",
            "==================================================================================================\n",
            "Total params: 19,917,349\n",
            "Trainable params: 19,917,349\n",
            "Non-trainable params: 0\n",
            "__________________________________________________________________________________________________\n"
          ]
        }
      ]
    },
    {
      "cell_type": "code",
      "source": [
        "model.load_weights(model_weights_path)"
      ],
      "metadata": {
        "id": "RIFIZI-0kzqX"
      },
      "execution_count": 11,
      "outputs": []
    },
    {
      "cell_type": "markdown",
      "source": [
        "## Predictions"
      ],
      "metadata": {
        "id": "bZ0a65W3tbJ5"
      }
    },
    {
      "cell_type": "code",
      "source": [
        "def predict_from_seed(seed, note_count=500):\n",
        "  pattern = list(seed)\n",
        "  prediction = []\n",
        "  for note_index in range(500):\n",
        "    x = keras.utils.to_categorical(np.reshape(pattern, (1, sequence_length, 1)), num_classes=unique_note_count)\n",
        "    p = model.predict(x, verbose=0)\n",
        "\n",
        "    i = np.argmax(p)\n",
        "    prediction.append(unique_notes[i])\n",
        "\n",
        "    pattern.append(i)\n",
        "    pattern = pattern[1:len(pattern)]\n",
        "  return prediction"
      ],
      "metadata": {
        "id": "TCrQ5Q-7topy"
      },
      "execution_count": 12,
      "outputs": []
    },
    {
      "cell_type": "code",
      "source": [
        "chord_pattern = re.compile(r'\\.')\n",
        "rest_pattern = re.compile(r'Rest')\n",
        "note_pattern = re.compile(r'[A-Z]')\n",
        "\n",
        "def process_prediction(prediction):\n",
        "  s = stream.Stream()\n",
        "  for element in prediction:\n",
        "    if element == 'Padding':\n",
        "      continue\n",
        "    if rest_pattern.search(element) is not None:\n",
        "      s.append(note.Rest(element))\n",
        "    elif chord_pattern.search(element) is not None:\n",
        "      s.append(chord.Chord([int(x) for x in element.split('.')]))\n",
        "    elif note_pattern.search(element) is not None:\n",
        "      s.append(note.Note(element))\n",
        "  return s"
      ],
      "metadata": {
        "id": "_Zh2rCynurAc"
      },
      "execution_count": 13,
      "outputs": []
    },
    {
      "cell_type": "markdown",
      "source": [
        "### Random pattern"
      ],
      "metadata": {
        "id": "RVNySAoCyoPZ"
      }
    },
    {
      "cell_type": "code",
      "source": [
        "seed = np.random.randint(low=0, high=unique_note_count, size=sequence_length).tolist()\n",
        "s = process_prediction(predict_from_seed(seed))\n",
        "s.write('midi', fp=create_path('output/test/05-01-2022-05-LSTM-withRecurentDropout.mid'))"
      ],
      "metadata": {
        "id": "2K4Ru5KXeyi3",
        "colab": {
          "base_uri": "https://localhost:8080/",
          "height": 35
        },
        "outputId": "5c8bf52b-7dc3-4091-e0fb-b0b71eac0eb3"
      },
      "execution_count": 15,
      "outputs": [
        {
          "output_type": "execute_result",
          "data": {
            "application/vnd.google.colaboratory.intrinsic+json": {
              "type": "string"
            },
            "text/plain": [
              "'/content/drive/My Drive/MLofi/output/test/05-01-2022-05-LSTM-withRecurentDropout.mid'"
            ]
          },
          "metadata": {},
          "execution_count": 15
        }
      ]
    },
    {
      "cell_type": "code",
      "source": [
        ""
      ],
      "metadata": {
        "id": "cNCCh7d1-Voi"
      },
      "execution_count": null,
      "outputs": []
    }
  ]
}