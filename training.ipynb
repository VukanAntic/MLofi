{
  "cells": [
    {
      "cell_type": "markdown",
      "source": [
        "# MLofi: Model training"
      ],
      "metadata": {
        "id": "fIO01HGMHu7i"
      }
    },
    {
      "cell_type": "markdown",
      "source": [
        "## Setup"
      ],
      "metadata": {
        "id": "nQPz-OIkIDi7"
      }
    },
    {
      "cell_type": "markdown",
      "source": [
        "### Hyperparameters"
      ],
      "metadata": {
        "id": "1g92NP9Iq5p-"
      }
    },
    {
      "cell_type": "markdown",
      "source": [
        "This parameter configures the length of the sequences used for the prediction. The sequences are fixed-length due to how recurrent links are implemented.\n",
        "\n",
        "This parameter is particularly interesting, as it determines how much data in the past can the network access.\n",
        "\n",
        "Due to the nature of the parameter, it also represents the length of the seed used to generate new songs."
      ],
      "metadata": {
        "id": "fYF0cdIlrKAD"
      }
    },
    {
      "cell_type": "code",
      "source": [
        "sequence_length = 20"
      ],
      "metadata": {
        "id": "IPDQMtPdrDnT"
      },
      "execution_count": 1,
      "outputs": []
    },
    {
      "cell_type": "markdown",
      "source": [
        "### Imports"
      ],
      "metadata": {
        "id": "qlNxKVfvI1k-"
      }
    },
    {
      "cell_type": "code",
      "source": [
        "import tensorflow as tf\n",
        "from tensorflow import keras\n",
        "from tensorflow.keras import layers\n",
        "from tensorflow.keras.layers import Input, LSTM, Dense, Dropout, Concatenate, Activation\n",
        "\n",
        "from music21 import *\n",
        "\n",
        "import numpy as np\n",
        "\n",
        "import os\n",
        "import re"
      ],
      "metadata": {
        "id": "Wqta5GRAI_Qq"
      },
      "execution_count": 2,
      "outputs": []
    },
    {
      "cell_type": "markdown",
      "source": [
        "### Mount Google Drive to access the dataset"
      ],
      "metadata": {
        "id": "BGATY4WeI44L"
      }
    },
    {
      "cell_type": "code",
      "source": [
        "from google.colab import drive\n",
        "drive.mount('/content/drive')"
      ],
      "metadata": {
        "colab": {
          "base_uri": "https://localhost:8080/"
        },
        "id": "i1jAcKt9IKU1",
        "outputId": "a4f1a06d-bedb-4004-c8c8-a8a85bf17912"
      },
      "execution_count": 3,
      "outputs": [
        {
          "output_type": "stream",
          "name": "stdout",
          "text": [
            "Mounted at /content/drive\n"
          ]
        }
      ]
    },
    {
      "cell_type": "code",
      "source": [
        "def create_path(relative_path):\n",
        "  return f'/content/drive/My Drive/MLofi/{relative_path}'"
      ],
      "metadata": {
        "id": "oNxgm5xKJyJC"
      },
      "execution_count": 4,
      "outputs": []
    },
    {
      "cell_type": "code",
      "source": [
        "dataset_directory = create_path('datasets/lofi-hip-hop-midi')\n",
        "path_to_unique_notes = create_path('output/data/unique_notes.txt')"
      ],
      "metadata": {
        "id": "Fs6uB_nLMSJY"
      },
      "execution_count": 5,
      "outputs": []
    },
    {
      "cell_type": "markdown",
      "source": [
        "## Training"
      ],
      "metadata": {
        "id": "K7_hs3GUH_TZ"
      }
    },
    {
      "cell_type": "markdown",
      "source": [
        "### Loading the datasets"
      ],
      "metadata": {
        "id": "4hB-p0-GKDxz"
      }
    },
    {
      "cell_type": "markdown",
      "source": [
        "The following datasets were used:\n",
        "- [Lo-Fi Hip Hop MIDIs](https://www.kaggle.com/zakarii/lofi-hip-hop-midi/metadata)\n",
        "  by *zakarii*\n",
        "- [Lo-fi samples](https://github.com/nmtremblay/lofi-samples) by *nmtremblay*"
      ],
      "metadata": {
        "id": "-iZXlGX6KM4p"
      }
    },
    {
      "cell_type": "markdown",
      "source": [
        "#### Navigating and reading the songs"
      ],
      "metadata": {
        "id": "EvugD9EXOdd-"
      }
    },
    {
      "cell_type": "code",
      "source": [
        "def read_song(song):\n",
        "  song_elements = []\n",
        "\n",
        "  for element in song.recurse():   \n",
        "    if isinstance(element, note.Note):\n",
        "      song_elements.append(str(element.pitch))\n",
        "    elif isinstance(element, chord.Chord):\n",
        "      song_elements.append('.'.join(str(n) for n in element.normalOrder))\n",
        "    elif isinstance(element, note.Rest):\n",
        "      # song_elements.append(str(element.fullName))\n",
        "      pass\n",
        "\n",
        "  return song_elements"
      ],
      "metadata": {
        "id": "9UqUDeDxMh8i"
      },
      "execution_count": 6,
      "outputs": []
    },
    {
      "cell_type": "code",
      "execution_count": 7,
      "metadata": {
        "id": "2_RvJDWp6DNC"
      },
      "outputs": [],
      "source": [
        "# The `songs` list holds the notes and chords for every song in the dataset\n",
        "songs = []\n",
        "\n",
        "for subdirs, dirs, files in os.walk(dataset_directory):\n",
        "  for file in files:\n",
        "    current_song_path = os.path.join(subdirs, file)\n",
        "    current_song_parse = converter.parse(current_song_path)\n",
        "           \n",
        "    songs.append(read_song(current_song_parse))"
      ]
    },
    {
      "cell_type": "markdown",
      "source": [
        "#### Processing the datasets"
      ],
      "metadata": {
        "id": "UvQ5cSv5OkLZ"
      }
    },
    {
      "cell_type": "markdown",
      "source": [
        "##### Flattening the songs"
      ],
      "metadata": {
        "id": "_pVVZofUPHdF"
      }
    },
    {
      "cell_type": "markdown",
      "source": [
        "The song elements (notes, chords, and rests) from the songs are flattened into a single\n",
        "list."
      ],
      "metadata": {
        "id": "6a1kYbtSPPif"
      }
    },
    {
      "cell_type": "code",
      "execution_count": 8,
      "metadata": {
        "id": "mREdfKRKuW58"
      },
      "outputs": [],
      "source": [
        "def flatten_songs(songs):\n",
        "  elements = []\n",
        "\n",
        "  for song in songs:\n",
        "    # Paddings signal a song's beginning\n",
        "    # elements.append('Padding')\n",
        "\n",
        "    for element in song:\n",
        "        elements.append(element)\n",
        "\n",
        "  return elements"
      ]
    },
    {
      "cell_type": "code",
      "source": [
        "all_notes = flatten_songs(songs)\n",
        "unique_notes = list(set(all_notes))\n",
        "note_to_index = dict([(note, index) for index, note in enumerate(unique_notes)])\n",
        "unique_note_count = len(unique_notes)\n",
        "unique_note_count"
      ],
      "metadata": {
        "id": "wLhxHAt4Sie-",
        "colab": {
          "base_uri": "https://localhost:8080/"
        },
        "outputId": "a4d803cd-2d30-4f83-bd8e-67a4b8221154"
      },
      "execution_count": 9,
      "outputs": [
        {
          "output_type": "execute_result",
          "data": {
            "text/plain": [
              "249"
            ]
          },
          "metadata": {},
          "execution_count": 9
        }
      ]
    },
    {
      "cell_type": "markdown",
      "source": [
        "##### Creating the note, chord and rest collection"
      ],
      "metadata": {
        "id": "x1pnMZhiBMhy"
      }
    },
    {
      "cell_type": "code",
      "execution_count": 10,
      "metadata": {
        "id": "BMAbCn58fP3j"
      },
      "outputs": [],
      "source": [
        "with open(path_to_unique_notes, \"w\") as f:\n",
        "  f.write(str(\"\\n\".join(unique_notes)))"
      ]
    },
    {
      "cell_type": "markdown",
      "source": [
        "##### Transforming the datasets into sequences"
      ],
      "metadata": {
        "id": "rqhjTIaUBrOi"
      }
    },
    {
      "cell_type": "code",
      "execution_count": 11,
      "metadata": {
        "id": "8X958LvJBgp-"
      },
      "outputs": [],
      "source": [
        "sequences = []        # a sequence is the input to the network\n",
        "following_notes = []  # the corresponding notes we're trying to predict\n",
        "\n",
        "for i in range(sequence_length, len(all_notes)):\n",
        "    sequence = all_notes[i - sequence_length : i]\n",
        "    result = all_notes[i]\n",
        "    \n",
        "    sequences.append([[note_to_index[note]] for note in sequence])\n",
        "    following_notes.append(note_to_index[result])\n",
        "sequences = np.array(sequences)"
      ]
    },
    {
      "cell_type": "markdown",
      "source": [
        "##### One-hot encoding the song elements"
      ],
      "metadata": {
        "id": "BwkP6A0ro7nH"
      }
    },
    {
      "cell_type": "code",
      "execution_count": 12,
      "metadata": {
        "id": "iTbACIO1D3m6"
      },
      "outputs": [],
      "source": [
        "X = keras.utils.to_categorical(sequences, num_classes=unique_note_count)\n",
        "y = keras.utils.to_categorical(following_notes, num_classes=unique_note_count)"
      ]
    },
    {
      "cell_type": "markdown",
      "source": [
        "### Defining the model"
      ],
      "metadata": {
        "id": "kxRr0Jf5pF3W"
      }
    },
    {
      "cell_type": "code",
      "execution_count": 28,
      "metadata": {
        "id": "ew67-JpkUby0"
      },
      "outputs": [],
      "source": [
        "input = Input(shape=(sequence_length, unique_note_count))\n",
        "hidden_1 = Dropout(0.3)(LSTM(700, return_sequences=True)(input))\n",
        "hidden_2 = Dropout(0.3)(LSTM(700, return_sequences=True)(Concatenate()([input, hidden_1])))\n",
        "hidden_3 = Dropout(0.3)(LSTM(700, return_sequences=True)(Concatenate()([input, hidden_2])))\n",
        "distribution_parameters = LSTM(700)(Concatenate()([hidden_1, hidden_2, hidden_3]))\n",
        "distribution = Dense(unique_note_count)(distribution_parameters)\n",
        "output = Activation('softmax')(distribution)\n",
        "\n",
        "model = keras.Model(inputs=input, outputs=output, name='MLofi')"
      ]
    },
    {
      "cell_type": "code",
      "source": [
        "# input = Input(shape=(sequence_length, unique_note_count))\n",
        "# hidden_1 = Dropout(0.3)(LSTM(512, return_sequences=True)(input))\n",
        "# hidden_2 = Dropout(0.3)(LSTM(512, return_sequences=True)(hidden_1))\n",
        "# hidden_3 = Dropout(0.3)(LSTM(512, return_sequences=True)(hidden_2))\n",
        "# hidden_4 = LSTM(512)(hidden_3)\n",
        "# dense_1 = Dropout(0.3)(Dense(512)(hidden_4))\n",
        "# dense_2 = Dense(unique_note_count)(dense_1)\n",
        "# output = Activation('softmax')(dense_2)\n",
        "\n",
        "# model = keras.Model(inputs=input, outputs=output)"
      ],
      "metadata": {
        "id": "ucdJfxkAzYuN"
      },
      "execution_count": 14,
      "outputs": []
    },
    {
      "cell_type": "code",
      "source": [
        "model.summary()"
      ],
      "metadata": {
        "colab": {
          "base_uri": "https://localhost:8080/"
        },
        "id": "GFPgu-QrdK7j",
        "outputId": "e0c873fb-beb2-4743-f477-0647fe216975"
      },
      "execution_count": 29,
      "outputs": [
        {
          "output_type": "stream",
          "name": "stdout",
          "text": [
            "Model: \"MLofi\"\n",
            "__________________________________________________________________________________________________\n",
            " Layer (type)                   Output Shape         Param #     Connected to                     \n",
            "==================================================================================================\n",
            " input_3 (InputLayer)           [(None, 20, 249)]    0           []                               \n",
            "                                                                                                  \n",
            " lstm_8 (LSTM)                  (None, 20, 700)      2660000     ['input_3[0][0]']                \n",
            "                                                                                                  \n",
            " dropout (Dropout)              (None, 20, 700)      0           ['lstm_8[0][0]']                 \n",
            "                                                                                                  \n",
            " concatenate_6 (Concatenate)    (None, 20, 949)      0           ['input_3[0][0]',                \n",
            "                                                                  'dropout[0][0]']                \n",
            "                                                                                                  \n",
            " lstm_9 (LSTM)                  (None, 20, 700)      4620000     ['concatenate_6[0][0]']          \n",
            "                                                                                                  \n",
            " dropout_1 (Dropout)            (None, 20, 700)      0           ['lstm_9[0][0]']                 \n",
            "                                                                                                  \n",
            " concatenate_7 (Concatenate)    (None, 20, 949)      0           ['input_3[0][0]',                \n",
            "                                                                  'dropout_1[0][0]']              \n",
            "                                                                                                  \n",
            " lstm_10 (LSTM)                 (None, 20, 700)      4620000     ['concatenate_7[0][0]']          \n",
            "                                                                                                  \n",
            " dropout_2 (Dropout)            (None, 20, 700)      0           ['lstm_10[0][0]']                \n",
            "                                                                                                  \n",
            " concatenate_8 (Concatenate)    (None, 20, 2100)     0           ['dropout[0][0]',                \n",
            "                                                                  'dropout_1[0][0]',              \n",
            "                                                                  'dropout_2[0][0]']              \n",
            "                                                                                                  \n",
            " lstm_11 (LSTM)                 (None, 700)          7842800     ['concatenate_8[0][0]']          \n",
            "                                                                                                  \n",
            " dense_2 (Dense)                (None, 249)          174549      ['lstm_11[0][0]']                \n",
            "                                                                                                  \n",
            " activation_2 (Activation)      (None, 249)          0           ['dense_2[0][0]']                \n",
            "                                                                                                  \n",
            "==================================================================================================\n",
            "Total params: 19,917,349\n",
            "Trainable params: 19,917,349\n",
            "Non-trainable params: 0\n",
            "__________________________________________________________________________________________________\n"
          ]
        }
      ]
    },
    {
      "cell_type": "code",
      "source": [
        "keras.utils.plot_model(model, \"model.png\")"
      ],
      "metadata": {
        "colab": {
          "base_uri": "https://localhost:8080/",
          "height": 1000
        },
        "id": "n_ebBgi5dXxW",
        "outputId": "a58510c3-28b8-47b6-ea26-46a149168a78"
      },
      "execution_count": 30,
      "outputs": [
        {
          "output_type": "execute_result",
          "data": {
            "image/png": "[encoded data removed]",
            "text/plain": [
              "<IPython.core.display.Image object>"
            ]
          },
          "metadata": {},
          "execution_count": 30
        }
      ]
    },
    {
      "cell_type": "markdown",
      "source": [
        "### Compiling and training the model"
      ],
      "metadata": {
        "id": "vrPCffN4piUQ"
      }
    },
    {
      "cell_type": "code",
      "source": [
        "model.compile(loss='categorical_crossentropy', metrics=['accuracy'], optimizer='adam')"
      ],
      "metadata": {
        "id": "bTge6rhR-N1a"
      },
      "execution_count": 31,
      "outputs": []
    },
    {
      "cell_type": "code",
      "execution_count": 32,
      "metadata": {
        "id": "qwYOVVmII3T0"
      },
      "outputs": [],
      "source": [
        "filepath = create_path(\"weights/weights.hdf5\")\n",
        "checkpoint = keras.callbacks.ModelCheckpoint(filepath, monitor='loss', verbose=1, save_best_only=True, mode='min')\n",
        "callbacks_list = [checkpoint]"
      ]
    },
    {
      "cell_type": "code",
      "execution_count": 33,
      "metadata": {
        "colab": {
          "base_uri": "https://localhost:8080/"
        },
        "id": "XX805MHVJOCu",
        "outputId": "85f30e65-7443-4ae1-e407-1dae4a4d2b14"
      },
      "outputs": [
        {
          "output_type": "stream",
          "name": "stdout",
          "text": [
            "Epoch 1/25\n",
            "34/34 [==============================] - ETA: 0s - loss: 4.9435 - accuracy: 0.0414\n",
            "Epoch 00001: loss improved from inf to 4.94352, saving model to /content/drive/My Drive/MLofi/weights/weights.hdf5\n",
            "34/34 [==============================] - 18s 220ms/step - loss: 4.9435 - accuracy: 0.0414\n",
            "Epoch 2/25\n",
            "34/34 [==============================] - ETA: 0s - loss: 4.3564 - accuracy: 0.0836\n",
            "Epoch 00002: loss improved from 4.94352 to 4.35642, saving model to /content/drive/My Drive/MLofi/weights/weights.hdf5\n",
            "34/34 [==============================] - 6s 162ms/step - loss: 4.3564 - accuracy: 0.0836\n",
            "Epoch 3/25\n",
            "34/34 [==============================] - ETA: 0s - loss: 4.0632 - accuracy: 0.0982\n",
            "Epoch 00003: loss improved from 4.35642 to 4.06317, saving model to /content/drive/My Drive/MLofi/weights/weights.hdf5\n",
            "34/34 [==============================] - 5s 162ms/step - loss: 4.0632 - accuracy: 0.0982\n",
            "Epoch 4/25\n",
            "34/34 [==============================] - ETA: 0s - loss: 3.8277 - accuracy: 0.1212\n",
            "Epoch 00004: loss improved from 4.06317 to 3.82765, saving model to /content/drive/My Drive/MLofi/weights/weights.hdf5\n",
            "34/34 [==============================] - 5s 161ms/step - loss: 3.8277 - accuracy: 0.1212\n",
            "Epoch 5/25\n",
            "34/34 [==============================] - ETA: 0s - loss: 3.5626 - accuracy: 0.1353\n",
            "Epoch 00005: loss improved from 3.82765 to 3.56256, saving model to /content/drive/My Drive/MLofi/weights/weights.hdf5\n",
            "34/34 [==============================] - 5s 160ms/step - loss: 3.5626 - accuracy: 0.1353\n",
            "Epoch 6/25\n",
            "34/34 [==============================] - ETA: 0s - loss: 3.3892 - accuracy: 0.1518\n",
            "Epoch 00006: loss improved from 3.56256 to 3.38916, saving model to /content/drive/My Drive/MLofi/weights/weights.hdf5\n",
            "34/34 [==============================] - 6s 167ms/step - loss: 3.3892 - accuracy: 0.1518\n",
            "Epoch 7/25\n",
            "34/34 [==============================] - ETA: 0s - loss: 3.1653 - accuracy: 0.1612\n",
            "Epoch 00007: loss improved from 3.38916 to 3.16534, saving model to /content/drive/My Drive/MLofi/weights/weights.hdf5\n",
            "34/34 [==============================] - 5s 160ms/step - loss: 3.1653 - accuracy: 0.1612\n",
            "Epoch 8/25\n",
            "34/34 [==============================] - ETA: 0s - loss: 2.9820 - accuracy: 0.1819\n",
            "Epoch 00008: loss improved from 3.16534 to 2.98199, saving model to /content/drive/My Drive/MLofi/weights/weights.hdf5\n",
            "34/34 [==============================] - 5s 161ms/step - loss: 2.9820 - accuracy: 0.1819\n",
            "Epoch 9/25\n",
            "34/34 [==============================] - ETA: 0s - loss: 2.7691 - accuracy: 0.2007\n",
            "Epoch 00009: loss improved from 2.98199 to 2.76908, saving model to /content/drive/My Drive/MLofi/weights/weights.hdf5\n",
            "34/34 [==============================] - 5s 161ms/step - loss: 2.7691 - accuracy: 0.2007\n",
            "Epoch 10/25\n",
            "34/34 [==============================] - ETA: 0s - loss: 2.6544 - accuracy: 0.2133\n",
            "Epoch 00010: loss improved from 2.76908 to 2.65436, saving model to /content/drive/My Drive/MLofi/weights/weights.hdf5\n",
            "34/34 [==============================] - 6s 174ms/step - loss: 2.6544 - accuracy: 0.2133\n",
            "Epoch 11/25\n",
            "34/34 [==============================] - ETA: 0s - loss: 2.4964 - accuracy: 0.2307\n",
            "Epoch 00011: loss improved from 2.65436 to 2.49642, saving model to /content/drive/My Drive/MLofi/weights/weights.hdf5\n",
            "34/34 [==============================] - 5s 161ms/step - loss: 2.4964 - accuracy: 0.2307\n",
            "Epoch 12/25\n",
            "34/34 [==============================] - ETA: 0s - loss: 2.3816 - accuracy: 0.2538\n",
            "Epoch 00012: loss improved from 2.49642 to 2.38160, saving model to /content/drive/My Drive/MLofi/weights/weights.hdf5\n",
            "34/34 [==============================] - 5s 161ms/step - loss: 2.3816 - accuracy: 0.2538\n",
            "Epoch 13/25\n",
            "34/34 [==============================] - ETA: 0s - loss: 2.2272 - accuracy: 0.2829\n",
            "Epoch 00013: loss improved from 2.38160 to 2.22721, saving model to /content/drive/My Drive/MLofi/weights/weights.hdf5\n",
            "34/34 [==============================] - 5s 160ms/step - loss: 2.2272 - accuracy: 0.2829\n",
            "Epoch 14/25\n",
            "34/34 [==============================] - ETA: 0s - loss: 2.0940 - accuracy: 0.3144\n",
            "Epoch 00014: loss improved from 2.22721 to 2.09396, saving model to /content/drive/My Drive/MLofi/weights/weights.hdf5\n",
            "34/34 [==============================] - 5s 159ms/step - loss: 2.0940 - accuracy: 0.3144\n",
            "Epoch 15/25\n",
            "34/34 [==============================] - ETA: 0s - loss: 1.9381 - accuracy: 0.3327\n",
            "Epoch 00015: loss improved from 2.09396 to 1.93815, saving model to /content/drive/My Drive/MLofi/weights/weights.hdf5\n",
            "34/34 [==============================] - 5s 160ms/step - loss: 1.9381 - accuracy: 0.3327\n",
            "Epoch 16/25\n",
            "34/34 [==============================] - ETA: 0s - loss: 1.7852 - accuracy: 0.3910\n",
            "Epoch 00016: loss improved from 1.93815 to 1.78525, saving model to /content/drive/My Drive/MLofi/weights/weights.hdf5\n",
            "34/34 [==============================] - 5s 162ms/step - loss: 1.7852 - accuracy: 0.3910\n",
            "Epoch 17/25\n",
            "34/34 [==============================] - ETA: 0s - loss: 1.6941 - accuracy: 0.4098\n",
            "Epoch 00017: loss improved from 1.78525 to 1.69410, saving model to /content/drive/My Drive/MLofi/weights/weights.hdf5\n",
            "34/34 [==============================] - 6s 168ms/step - loss: 1.6941 - accuracy: 0.4098\n",
            "Epoch 18/25\n",
            "34/34 [==============================] - ETA: 0s - loss: 1.5383 - accuracy: 0.4727\n",
            "Epoch 00018: loss improved from 1.69410 to 1.53831, saving model to /content/drive/My Drive/MLofi/weights/weights.hdf5\n",
            "34/34 [==============================] - 5s 162ms/step - loss: 1.5383 - accuracy: 0.4727\n",
            "Epoch 19/25\n",
            "34/34 [==============================] - ETA: 0s - loss: 1.4164 - accuracy: 0.4925\n",
            "Epoch 00019: loss improved from 1.53831 to 1.41642, saving model to /content/drive/My Drive/MLofi/weights/weights.hdf5\n",
            "34/34 [==============================] - 5s 159ms/step - loss: 1.4164 - accuracy: 0.4925\n",
            "Epoch 20/25\n",
            "34/34 [==============================] - ETA: 0s - loss: 1.2692 - accuracy: 0.5475\n",
            "Epoch 00020: loss improved from 1.41642 to 1.26922, saving model to /content/drive/My Drive/MLofi/weights/weights.hdf5\n",
            "34/34 [==============================] - 5s 161ms/step - loss: 1.2692 - accuracy: 0.5475\n",
            "Epoch 21/25\n",
            "34/34 [==============================] - ETA: 0s - loss: 1.1268 - accuracy: 0.6161\n",
            "Epoch 00021: loss improved from 1.26922 to 1.12684, saving model to /content/drive/My Drive/MLofi/weights/weights.hdf5\n",
            "34/34 [==============================] - 5s 160ms/step - loss: 1.1268 - accuracy: 0.6161\n",
            "Epoch 22/25\n",
            "34/34 [==============================] - ETA: 0s - loss: 1.0414 - accuracy: 0.6382\n",
            "Epoch 00022: loss improved from 1.12684 to 1.04144, saving model to /content/drive/My Drive/MLofi/weights/weights.hdf5\n",
            "34/34 [==============================] - 5s 160ms/step - loss: 1.0414 - accuracy: 0.6382\n",
            "Epoch 23/25\n",
            "34/34 [==============================] - ETA: 0s - loss: 0.9492 - accuracy: 0.6767\n",
            "Epoch 00023: loss improved from 1.04144 to 0.94919, saving model to /content/drive/My Drive/MLofi/weights/weights.hdf5\n",
            "34/34 [==============================] - 5s 160ms/step - loss: 0.9492 - accuracy: 0.6767\n",
            "Epoch 24/25\n",
            "34/34 [==============================] - ETA: 0s - loss: 0.8006 - accuracy: 0.7495\n",
            "Epoch 00024: loss improved from 0.94919 to 0.80057, saving model to /content/drive/My Drive/MLofi/weights/weights.hdf5\n",
            "34/34 [==============================] - 5s 161ms/step - loss: 0.8006 - accuracy: 0.7495\n",
            "Epoch 25/25\n",
            "34/34 [==============================] - ETA: 0s - loss: 0.7187 - accuracy: 0.7820\n",
            "Epoch 00025: loss improved from 0.80057 to 0.71871, saving model to /content/drive/My Drive/MLofi/weights/weights.hdf5\n",
            "34/34 [==============================] - 5s 160ms/step - loss: 0.7187 - accuracy: 0.7820\n"
          ]
        }
      ],
      "source": [
        "history = model.fit(X, y, epochs=25, batch_size=64, callbacks=callbacks_list)"
      ]
    }
  ],
  "metadata": {
    "accelerator": "GPU",
    "colab": {
      "collapsed_sections": [],
      "name": "training.ipynb",
      "provenance": [],
      "toc_visible": true
    },
    "kernelspec": {
      "display_name": "Python 3",
      "name": "python3"
    },
    "language_info": {
      "name": "python"
    }
  },
  "nbformat": 4,
  "nbformat_minor": 0
}