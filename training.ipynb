{
  "cells": [
    {
      "cell_type": "markdown",
      "source": [
        "# MLofi: Model training"
      ],
      "metadata": {
        "id": "fIO01HGMHu7i"
      }
    },
    {
      "cell_type": "markdown",
      "source": [
        "## Setup"
      ],
      "metadata": {
        "id": "nQPz-OIkIDi7"
      }
    },
    {
      "cell_type": "markdown",
      "source": [
        "### Hyperparameters"
      ],
      "metadata": {
        "id": "1g92NP9Iq5p-"
      }
    },
    {
      "cell_type": "markdown",
      "source": [
        "This parameter configures the length of the sequences used for the prediction. The sequences are fixed-length due to how recurrent links are implemented.\n",
        "\n",
        "This parameter is particularly interesting, as it determines how much data in the past can the network access.\n",
        "\n",
        "Due to the nature of the parameter, it also represents the length of the seed used to generate new songs."
      ],
      "metadata": {
        "id": "fYF0cdIlrKAD"
      }
    },
    {
      "cell_type": "code",
      "source": [
        "sequence_length = 30\n",
        "# possible values [\"srnn\", \"lstm\", \"gru\"]\n",
        "model_type = \"lstm\""
      ],
      "metadata": {
        "id": "IPDQMtPdrDnT"
      },
      "execution_count": 1,
      "outputs": []
    },
    {
      "cell_type": "markdown",
      "source": [
        "### Imports"
      ],
      "metadata": {
        "id": "qlNxKVfvI1k-"
      }
    },
    {
      "cell_type": "code",
      "source": [
        "import tensorflow as tf\n",
        "from tensorflow import keras\n",
        "from tensorflow.keras import layers\n",
        "from tensorflow.keras.layers import Input, LSTM, Dense, Dropout, Concatenate, Activation\n",
        "\n",
        "from tensorflow.keras.layers import  SimpleRNN, GRU\n",
        "\n",
        "from music21 import *\n",
        "\n",
        "import numpy as np\n",
        "\n",
        "import os\n",
        "import re"
      ],
      "metadata": {
        "id": "Wqta5GRAI_Qq"
      },
      "execution_count": 2,
      "outputs": []
    },
    {
      "cell_type": "markdown",
      "source": [
        "### Mount Google Drive to access the dataset"
      ],
      "metadata": {
        "id": "BGATY4WeI44L"
      }
    },
    {
      "cell_type": "code",
      "source": [
        "from google.colab import drive\n",
        "drive.mount('/content/drive')"
      ],
      "metadata": {
        "colab": {
          "base_uri": "https://localhost:8080/"
        },
        "id": "i1jAcKt9IKU1",
        "outputId": "1b3881fe-0116-4654-cb5e-d3a98b81e811"
      },
      "execution_count": 3,
      "outputs": [
        {
          "output_type": "stream",
          "name": "stdout",
          "text": [
            "Mounted at /content/drive\n"
          ]
        }
      ]
    },
    {
      "cell_type": "code",
      "source": [
        "def create_path(relative_path):\n",
        "  return f'/content/drive/My Drive/MLofi/{relative_path}'"
      ],
      "metadata": {
        "id": "oNxgm5xKJyJC"
      },
      "execution_count": 4,
      "outputs": []
    },
    {
      "cell_type": "code",
      "source": [
        "dataset_directory = create_path('datasets/lofi-hip-hop-midi')\n",
        "path_to_unique_notes = create_path('output/data/unique_notes.txt')"
      ],
      "metadata": {
        "id": "Fs6uB_nLMSJY"
      },
      "execution_count": 5,
      "outputs": []
    },
    {
      "cell_type": "markdown",
      "source": [
        "## Training"
      ],
      "metadata": {
        "id": "K7_hs3GUH_TZ"
      }
    },
    {
      "cell_type": "markdown",
      "source": [
        "### Loading the datasets"
      ],
      "metadata": {
        "id": "4hB-p0-GKDxz"
      }
    },
    {
      "cell_type": "markdown",
      "source": [
        "The following datasets were used:\n",
        "- [Lo-Fi Hip Hop MIDIs](https://www.kaggle.com/zakarii/lofi-hip-hop-midi/metadata)\n",
        "  by *zakarii*\n",
        "- [Lo-fi samples](https://github.com/nmtremblay/lofi-samples) by *nmtremblay*"
      ],
      "metadata": {
        "id": "-iZXlGX6KM4p"
      }
    },
    {
      "cell_type": "markdown",
      "source": [
        "#### Navigating and reading the songs"
      ],
      "metadata": {
        "id": "EvugD9EXOdd-"
      }
    },
    {
      "cell_type": "code",
      "source": [
        "def read_song(song):\n",
        "  song_elements = []\n",
        "\n",
        "  for element in song.recurse():   \n",
        "    if isinstance(element, note.Note):\n",
        "      song_elements.append(str(element.pitch))\n",
        "    elif isinstance(element, chord.Chord):\n",
        "      song_elements.append('.'.join(str(n) for n in element.normalOrder))\n",
        "    elif isinstance(element, note.Rest):\n",
        "      # song_elements.append(str(element.fullName))\n",
        "      pass\n",
        "\n",
        "  return song_elements"
      ],
      "metadata": {
        "id": "9UqUDeDxMh8i"
      },
      "execution_count": 6,
      "outputs": []
    },
    {
      "cell_type": "code",
      "execution_count": 7,
      "metadata": {
        "id": "2_RvJDWp6DNC"
      },
      "outputs": [],
      "source": [
        "# The `songs` list holds the notes and chords for every song in the dataset\n",
        "songs = []\n",
        "\n",
        "for subdirs, dirs, files in os.walk(dataset_directory):\n",
        "  for file in files:\n",
        "    current_song_path = os.path.join(subdirs, file)\n",
        "    current_song_parse = converter.parse(current_song_path)\n",
        "           \n",
        "    songs.append(read_song(current_song_parse))"
      ]
    },
    {
      "cell_type": "markdown",
      "source": [
        "#### Processing the datasets"
      ],
      "metadata": {
        "id": "UvQ5cSv5OkLZ"
      }
    },
    {
      "cell_type": "markdown",
      "source": [
        "##### Flattening the songs"
      ],
      "metadata": {
        "id": "_pVVZofUPHdF"
      }
    },
    {
      "cell_type": "markdown",
      "source": [
        "The song elements (notes, chords, and rests) from the songs are flattened into a single\n",
        "list."
      ],
      "metadata": {
        "id": "6a1kYbtSPPif"
      }
    },
    {
      "cell_type": "code",
      "execution_count": 8,
      "metadata": {
        "id": "mREdfKRKuW58"
      },
      "outputs": [],
      "source": [
        "def flatten_songs(songs):\n",
        "  elements = []\n",
        "\n",
        "  for song in songs:\n",
        "    # Paddings signal a song's beginning\n",
        "    # elements.append('Padding')\n",
        "\n",
        "    for element in song:\n",
        "        elements.append(element)\n",
        "\n",
        "  return elements"
      ]
    },
    {
      "cell_type": "code",
      "source": [
        "all_notes = flatten_songs(songs)\n",
        "unique_notes = list(set(all_notes))\n",
        "note_to_index = dict([(note, index) for index, note in enumerate(unique_notes)])\n",
        "unique_note_count = len(unique_notes)\n",
        "unique_note_count"
      ],
      "metadata": {
        "id": "wLhxHAt4Sie-",
        "colab": {
          "base_uri": "https://localhost:8080/"
        },
        "outputId": "44db6338-487b-4083-aae5-a30656a552ec"
      },
      "execution_count": 9,
      "outputs": [
        {
          "output_type": "execute_result",
          "data": {
            "text/plain": [
              "249"
            ]
          },
          "metadata": {},
          "execution_count": 9
        }
      ]
    },
    {
      "cell_type": "markdown",
      "source": [
        "##### Creating the note, chord and rest collection"
      ],
      "metadata": {
        "id": "x1pnMZhiBMhy"
      }
    },
    {
      "cell_type": "code",
      "execution_count": 10,
      "metadata": {
        "id": "BMAbCn58fP3j"
      },
      "outputs": [],
      "source": [
        "with open(path_to_unique_notes, \"w\") as f:\n",
        "  f.write(str(\"\\n\".join(unique_notes)))"
      ]
    },
    {
      "cell_type": "markdown",
      "source": [
        "##### Transforming the datasets into sequences"
      ],
      "metadata": {
        "id": "rqhjTIaUBrOi"
      }
    },
    {
      "cell_type": "code",
      "execution_count": 11,
      "metadata": {
        "id": "8X958LvJBgp-"
      },
      "outputs": [],
      "source": [
        "sequences = []        # a sequence is the input to the network\n",
        "following_notes = []  # the corresponding notes we're trying to predict\n",
        "\n",
        "for i in range(sequence_length, len(all_notes)):\n",
        "    sequence = all_notes[i - sequence_length : i]\n",
        "    result = all_notes[i]\n",
        "    \n",
        "    sequences.append([[note_to_index[note]] for note in sequence])\n",
        "    following_notes.append(note_to_index[result])\n",
        "sequences = np.array(sequences)"
      ]
    },
    {
      "cell_type": "markdown",
      "source": [
        "##### One-hot encoding the song elements"
      ],
      "metadata": {
        "id": "BwkP6A0ro7nH"
      }
    },
    {
      "cell_type": "code",
      "execution_count": 12,
      "metadata": {
        "id": "iTbACIO1D3m6"
      },
      "outputs": [],
      "source": [
        "X = keras.utils.to_categorical(sequences, num_classes=unique_note_count)\n",
        "y = keras.utils.to_categorical(following_notes, num_classes=unique_note_count)"
      ]
    },
    {
      "cell_type": "markdown",
      "source": [
        "### Defining the model"
      ],
      "metadata": {
        "id": "kxRr0Jf5pF3W"
      }
    },
    {
      "cell_type": "code",
      "execution_count": 16,
      "metadata": {
        "id": "ew67-JpkUby0",
        "colab": {
          "base_uri": "https://localhost:8080/"
        },
        "outputId": "ae67f76b-42d4-45dd-811e-585f5cc04c8a"
      },
      "outputs": [
        {
          "output_type": "stream",
          "name": "stdout",
          "text": [
            "WARNING:tensorflow:Layer lstm_12 will not use cuDNN kernels since it doesn't meet the criteria. It will use a generic GPU kernel as fallback when running on GPU.\n",
            "WARNING:tensorflow:Layer lstm_13 will not use cuDNN kernels since it doesn't meet the criteria. It will use a generic GPU kernel as fallback when running on GPU.\n",
            "WARNING:tensorflow:Layer lstm_14 will not use cuDNN kernels since it doesn't meet the criteria. It will use a generic GPU kernel as fallback when running on GPU.\n",
            "WARNING:tensorflow:Layer lstm_15 will not use cuDNN kernels since it doesn't meet the criteria. It will use a generic GPU kernel as fallback when running on GPU.\n"
          ]
        }
      ],
      "source": [
        "if model_type == \"lstm\":\n",
        "  input = Input(shape=(sequence_length, unique_note_count))\n",
        "  hidden_1 = Dropout(0.3)(LSTM(700, return_sequences=True, recurrent_dropout=0.2)(input))\n",
        "  hidden_2 = Dropout(0.3)(LSTM(700, return_sequences=True, recurrent_dropout=0.2)(Concatenate()([input, hidden_1])))\n",
        "  hidden_3 = Dropout(0.3)(LSTM(700, return_sequences=True, recurrent_dropout=0.2)(Concatenate()([input, hidden_2])))\n",
        "  distribution_parameters = LSTM(700, recurrent_dropout=0.3)(Concatenate()([hidden_1, hidden_2, hidden_3]))\n",
        "  distribution = Dense(unique_note_count)(distribution_parameters)\n",
        "elif model_type == \"gru\":\n",
        "  input = Input(shape=(sequence_length, unique_note_count))\n",
        "  hidden_1 = Dropout(0.3)(GRU(700, return_sequences=True, recurrent_dropout=0.3)(input))\n",
        "  hidden_2 = Dropout(0.3)(GRU(700, return_sequences=True, recurrent_dropout=0.3)(Concatenate()([input, hidden_1])))\n",
        "  hidden_3 = Dropout(0.3)(GRU(700, return_sequences=True, recurrent_dropout=0.3)(Concatenate()([input, hidden_2])))\n",
        "  distribution_parameters = GRU(700, recurrent_dropout=0.3)(Concatenate()([hidden_1, hidden_2, hidden_3]))\n",
        "  distribution = Dense(unique_note_count)(distribution_parameters)\n",
        "elif model_type == \"srnn\":\n",
        "  input = Input(shape=(sequence_length, unique_note_count))\n",
        "  hidden_1 = Dropout(0.3)(SimpleRNN(700, return_sequences=True)(input))\n",
        "  hidden_2 = Dropout(0.3)(SimpleRNN(700, return_sequences=True)(Concatenate()([input, hidden_1])))\n",
        "  hidden_3 = Dropout(0.3)(SimpleRNN(700, return_sequences=True)(Concatenate()([input, hidden_2])))\n",
        "  distribution_parameters = SimpleRNN(700)(Concatenate()([hidden_1, hidden_2, hidden_3]))\n",
        "  distribution = Dense(unique_note_count)(distribution_parameters)\n",
        "\n",
        "output = Activation('softmax')(distribution)\n",
        "model = keras.Model(inputs=input, outputs=output, name='MLofi')"
      ]
    },
    {
      "cell_type": "code",
      "source": [
        "# input = Input(shape=(sequence_length, unique_note_count))\n",
        "# hidden_1 = Dropout(0.3)(LSTM(512, return_sequences=True)(input))\n",
        "# hidden_2 = Dropout(0.3)(LSTM(512, return_sequences=True)(hidden_1))\n",
        "# hidden_3 = Dropout(0.3)(LSTM(512, return_sequences=True)(hidden_2))\n",
        "# hidden_4 = LSTM(512)(hidden_3)\n",
        "# dense_1 = Dropout(0.3)(Dense(512)(hidden_4))\n",
        "# dense_2 = Dense(unique_note_count)(dense_1)\n",
        "# output = Activation('softmax')(dense_2)\n",
        "\n",
        "# model = keras.Model(inputs=input, outputs=output)"
      ],
      "metadata": {
        "id": "ucdJfxkAzYuN"
      },
      "execution_count": 37,
      "outputs": []
    },
    {
      "cell_type": "code",
      "source": [
        "model.summary()"
      ],
      "metadata": {
        "colab": {
          "base_uri": "https://localhost:8080/"
        },
        "id": "GFPgu-QrdK7j",
        "outputId": "7a49efe1-0e36-48fa-c6ed-a1c84a31550b"
      },
      "execution_count": 38,
      "outputs": [
        {
          "output_type": "stream",
          "name": "stdout",
          "text": [
            "Model: \"MLofi\"\n",
            "__________________________________________________________________________________________________\n",
            " Layer (type)                   Output Shape         Param #     Connected to                     \n",
            "==================================================================================================\n",
            " input_2 (InputLayer)           [(None, 30, 249)]    0           []                               \n",
            "                                                                                                  \n",
            " lstm_4 (LSTM)                  (None, 30, 700)      2660000     ['input_2[0][0]']                \n",
            "                                                                                                  \n",
            " dropout (Dropout)              (None, 30, 700)      0           ['lstm_4[0][0]']                 \n",
            "                                                                                                  \n",
            " concatenate_3 (Concatenate)    (None, 30, 949)      0           ['input_2[0][0]',                \n",
            "                                                                  'dropout[0][0]']                \n",
            "                                                                                                  \n",
            " lstm_5 (LSTM)                  (None, 30, 700)      4620000     ['concatenate_3[0][0]']          \n",
            "                                                                                                  \n",
            " dropout_1 (Dropout)            (None, 30, 700)      0           ['lstm_5[0][0]']                 \n",
            "                                                                                                  \n",
            " concatenate_4 (Concatenate)    (None, 30, 949)      0           ['input_2[0][0]',                \n",
            "                                                                  'dropout_1[0][0]']              \n",
            "                                                                                                  \n",
            " lstm_6 (LSTM)                  (None, 30, 700)      4620000     ['concatenate_4[0][0]']          \n",
            "                                                                                                  \n",
            " dropout_2 (Dropout)            (None, 30, 700)      0           ['lstm_6[0][0]']                 \n",
            "                                                                                                  \n",
            " concatenate_5 (Concatenate)    (None, 30, 2100)     0           ['dropout[0][0]',                \n",
            "                                                                  'dropout_1[0][0]',              \n",
            "                                                                  'dropout_2[0][0]']              \n",
            "                                                                                                  \n",
            " lstm_7 (LSTM)                  (None, 700)          7842800     ['concatenate_5[0][0]']          \n",
            "                                                                                                  \n",
            " dense_1 (Dense)                (None, 249)          174549      ['lstm_7[0][0]']                 \n",
            "                                                                                                  \n",
            " activation_1 (Activation)      (None, 249)          0           ['dense_1[0][0]']                \n",
            "                                                                                                  \n",
            "==================================================================================================\n",
            "Total params: 19,917,349\n",
            "Trainable params: 19,917,349\n",
            "Non-trainable params: 0\n",
            "__________________________________________________________________________________________________\n"
          ]
        }
      ]
    },
    {
      "cell_type": "code",
      "source": [
        "keras.utils.plot_model(model, \"model.png\")"
      ],
      "metadata": {
        "colab": {
          "base_uri": "https://localhost:8080/",
          "height": 1000
        },
        "id": "n_ebBgi5dXxW",
        "outputId": "8f5c13b0-d88d-4d77-ea8f-5d69c51fe879"
      },
      "execution_count": 39,
      "outputs": [
        {
          "output_type": "execute_result",
          "data": {
            "image/png": "[encoded data removed]",
            "text/plain": [
              "<IPython.core.display.Image object>"
            ]
          },
          "metadata": {},
          "execution_count": 39
        }
      ]
    },
    {
      "cell_type": "markdown",
      "source": [
        "### Compiling and training the model"
      ],
      "metadata": {
        "id": "vrPCffN4piUQ"
      }
    },
    {
      "cell_type": "code",
      "source": [
        "model.compile(loss='categorical_crossentropy', metrics=['accuracy'], optimizer='adam')"
      ],
      "metadata": {
        "id": "bTge6rhR-N1a"
      },
      "execution_count": 40,
      "outputs": []
    },
    {
      "cell_type": "code",
      "execution_count": 41,
      "metadata": {
        "id": "qwYOVVmII3T0"
      },
      "outputs": [],
      "source": [
        "filepath = create_path(\"weights/weights.hdf5\")\n",
        "checkpoint = keras.callbacks.ModelCheckpoint(filepath, monitor='loss', verbose=1, save_best_only=True, mode='min')\n",
        "callbacks_list = [checkpoint]"
      ]
    },
    {
      "cell_type": "code",
      "execution_count": 42,
      "metadata": {
        "colab": {
          "base_uri": "https://localhost:8080/"
        },
        "id": "XX805MHVJOCu",
        "outputId": "33e14075-b7b3-4a97-94c8-1234b937e324"
      },
      "outputs": [
        {
          "output_type": "stream",
          "name": "stdout",
          "text": [
            "Epoch 1/25\n",
            "34/34 [==============================] - ETA: 0s - loss: 5.0047 - accuracy: 0.0430\n",
            "Epoch 00001: loss improved from inf to 5.00469, saving model to /content/drive/My Drive/MLofi/weights/weights.hdf5\n",
            "34/34 [==============================] - 44s 1s/step - loss: 5.0047 - accuracy: 0.0430\n",
            "Epoch 2/25\n",
            "34/34 [==============================] - ETA: 0s - loss: 4.5963 - accuracy: 0.0585\n",
            "Epoch 00002: loss improved from 5.00469 to 4.59627, saving model to /content/drive/My Drive/MLofi/weights/weights.hdf5\n",
            "34/34 [==============================] - 37s 1s/step - loss: 4.5963 - accuracy: 0.0585\n",
            "Epoch 3/25\n",
            "34/34 [==============================] - ETA: 0s - loss: 4.3284 - accuracy: 0.0883\n",
            "Epoch 00003: loss improved from 4.59627 to 4.32839, saving model to /content/drive/My Drive/MLofi/weights/weights.hdf5\n",
            "34/34 [==============================] - 37s 1s/step - loss: 4.3284 - accuracy: 0.0883\n",
            "Epoch 4/25\n",
            "34/34 [==============================] - ETA: 0s - loss: 4.1521 - accuracy: 0.0873\n",
            "Epoch 00004: loss improved from 4.32839 to 4.15214, saving model to /content/drive/My Drive/MLofi/weights/weights.hdf5\n",
            "34/34 [==============================] - 37s 1s/step - loss: 4.1521 - accuracy: 0.0873\n",
            "Epoch 5/25\n",
            "34/34 [==============================] - ETA: 0s - loss: 3.9252 - accuracy: 0.1143\n",
            "Epoch 00005: loss improved from 4.15214 to 3.92516, saving model to /content/drive/My Drive/MLofi/weights/weights.hdf5\n",
            "34/34 [==============================] - 37s 1s/step - loss: 3.9252 - accuracy: 0.1143\n",
            "Epoch 6/25\n",
            "34/34 [==============================] - ETA: 0s - loss: 3.7182 - accuracy: 0.1171\n",
            "Epoch 00006: loss improved from 3.92516 to 3.71824, saving model to /content/drive/My Drive/MLofi/weights/weights.hdf5\n",
            "34/34 [==============================] - 37s 1s/step - loss: 3.7182 - accuracy: 0.1171\n",
            "Epoch 7/25\n",
            "34/34 [==============================] - ETA: 0s - loss: 3.5342 - accuracy: 0.1317\n",
            "Epoch 00007: loss improved from 3.71824 to 3.53418, saving model to /content/drive/My Drive/MLofi/weights/weights.hdf5\n",
            "34/34 [==============================] - 37s 1s/step - loss: 3.5342 - accuracy: 0.1317\n",
            "Epoch 8/25\n",
            "34/34 [==============================] - ETA: 0s - loss: 3.3164 - accuracy: 0.1459\n",
            "Epoch 00008: loss improved from 3.53418 to 3.31645, saving model to /content/drive/My Drive/MLofi/weights/weights.hdf5\n",
            "34/34 [==============================] - 37s 1s/step - loss: 3.3164 - accuracy: 0.1459\n",
            "Epoch 9/25\n",
            "34/34 [==============================] - ETA: 0s - loss: 3.1687 - accuracy: 0.1629\n",
            "Epoch 00009: loss improved from 3.31645 to 3.16866, saving model to /content/drive/My Drive/MLofi/weights/weights.hdf5\n",
            "34/34 [==============================] - 37s 1s/step - loss: 3.1687 - accuracy: 0.1629\n",
            "Epoch 10/25\n",
            "34/34 [==============================] - ETA: 0s - loss: 2.9912 - accuracy: 0.1714\n",
            "Epoch 00010: loss improved from 3.16866 to 2.99121, saving model to /content/drive/My Drive/MLofi/weights/weights.hdf5\n",
            "34/34 [==============================] - 37s 1s/step - loss: 2.9912 - accuracy: 0.1714\n",
            "Epoch 11/25\n",
            "34/34 [==============================] - ETA: 0s - loss: 2.7862 - accuracy: 0.1959\n",
            "Epoch 00011: loss improved from 2.99121 to 2.78623, saving model to /content/drive/My Drive/MLofi/weights/weights.hdf5\n",
            "34/34 [==============================] - 37s 1s/step - loss: 2.7862 - accuracy: 0.1959\n",
            "Epoch 12/25\n",
            "34/34 [==============================] - ETA: 0s - loss: 2.6962 - accuracy: 0.1992\n",
            "Epoch 00012: loss improved from 2.78623 to 2.69620, saving model to /content/drive/My Drive/MLofi/weights/weights.hdf5\n",
            "34/34 [==============================] - 38s 1s/step - loss: 2.6962 - accuracy: 0.1992\n",
            "Epoch 13/25\n",
            "34/34 [==============================] - ETA: 0s - loss: 2.5275 - accuracy: 0.2134\n",
            "Epoch 00013: loss improved from 2.69620 to 2.52750, saving model to /content/drive/My Drive/MLofi/weights/weights.hdf5\n",
            "34/34 [==============================] - 37s 1s/step - loss: 2.5275 - accuracy: 0.2134\n",
            "Epoch 14/25\n",
            "34/34 [==============================] - ETA: 0s - loss: 2.3723 - accuracy: 0.2394\n",
            "Epoch 00014: loss improved from 2.52750 to 2.37231, saving model to /content/drive/My Drive/MLofi/weights/weights.hdf5\n",
            "34/34 [==============================] - 38s 1s/step - loss: 2.3723 - accuracy: 0.2394\n",
            "Epoch 15/25\n",
            "34/34 [==============================] - ETA: 0s - loss: 2.2179 - accuracy: 0.2691\n",
            "Epoch 00015: loss improved from 2.37231 to 2.21794, saving model to /content/drive/My Drive/MLofi/weights/weights.hdf5\n",
            "34/34 [==============================] - 38s 1s/step - loss: 2.2179 - accuracy: 0.2691\n",
            "Epoch 16/25\n",
            "34/34 [==============================] - ETA: 0s - loss: 2.1245 - accuracy: 0.2819\n",
            "Epoch 00016: loss improved from 2.21794 to 2.12449, saving model to /content/drive/My Drive/MLofi/weights/weights.hdf5\n",
            "34/34 [==============================] - 38s 1s/step - loss: 2.1245 - accuracy: 0.2819\n",
            "Epoch 17/25\n",
            "34/34 [==============================] - ETA: 0s - loss: 1.9981 - accuracy: 0.3012\n",
            "Epoch 00017: loss improved from 2.12449 to 1.99810, saving model to /content/drive/My Drive/MLofi/weights/weights.hdf5\n",
            "34/34 [==============================] - 37s 1s/step - loss: 1.9981 - accuracy: 0.3012\n",
            "Epoch 18/25\n",
            "34/34 [==============================] - ETA: 0s - loss: 1.9119 - accuracy: 0.3159\n",
            "Epoch 00018: loss improved from 1.99810 to 1.91190, saving model to /content/drive/My Drive/MLofi/weights/weights.hdf5\n",
            "34/34 [==============================] - 38s 1s/step - loss: 1.9119 - accuracy: 0.3159\n",
            "Epoch 19/25\n",
            "34/34 [==============================] - ETA: 0s - loss: 1.8097 - accuracy: 0.3499\n",
            "Epoch 00019: loss improved from 1.91190 to 1.80967, saving model to /content/drive/My Drive/MLofi/weights/weights.hdf5\n",
            "34/34 [==============================] - 37s 1s/step - loss: 1.8097 - accuracy: 0.3499\n",
            "Epoch 20/25\n",
            "34/34 [==============================] - ETA: 0s - loss: 1.7083 - accuracy: 0.3895\n",
            "Epoch 00020: loss improved from 1.80967 to 1.70826, saving model to /content/drive/My Drive/MLofi/weights/weights.hdf5\n",
            "34/34 [==============================] - 37s 1s/step - loss: 1.7083 - accuracy: 0.3895\n",
            "Epoch 21/25\n",
            "34/34 [==============================] - ETA: 0s - loss: 1.6174 - accuracy: 0.4032\n",
            "Epoch 00021: loss improved from 1.70826 to 1.61737, saving model to /content/drive/My Drive/MLofi/weights/weights.hdf5\n",
            "34/34 [==============================] - 37s 1s/step - loss: 1.6174 - accuracy: 0.4032\n",
            "Epoch 22/25\n",
            "34/34 [==============================] - ETA: 0s - loss: 1.5264 - accuracy: 0.4386\n",
            "Epoch 00022: loss improved from 1.61737 to 1.52644, saving model to /content/drive/My Drive/MLofi/weights/weights.hdf5\n",
            "34/34 [==============================] - 37s 1s/step - loss: 1.5264 - accuracy: 0.4386\n",
            "Epoch 23/25\n",
            "34/34 [==============================] - ETA: 0s - loss: 1.4175 - accuracy: 0.4754\n",
            "Epoch 00023: loss improved from 1.52644 to 1.41747, saving model to /content/drive/My Drive/MLofi/weights/weights.hdf5\n",
            "34/34 [==============================] - 38s 1s/step - loss: 1.4175 - accuracy: 0.4754\n",
            "Epoch 24/25\n",
            "34/34 [==============================] - ETA: 0s - loss: 1.3463 - accuracy: 0.4943\n",
            "Epoch 00024: loss improved from 1.41747 to 1.34630, saving model to /content/drive/My Drive/MLofi/weights/weights.hdf5\n",
            "34/34 [==============================] - 38s 1s/step - loss: 1.3463 - accuracy: 0.4943\n",
            "Epoch 25/25\n",
            "34/34 [==============================] - ETA: 0s - loss: 1.2993 - accuracy: 0.5288\n",
            "Epoch 00025: loss improved from 1.34630 to 1.29930, saving model to /content/drive/My Drive/MLofi/weights/weights.hdf5\n",
            "34/34 [==============================] - 38s 1s/step - loss: 1.2993 - accuracy: 0.5288\n"
          ]
        }
      ],
      "source": [
        "history = model.fit(X, y, epochs=25, batch_size=64, callbacks=callbacks_list)"
      ]
    },
    {
      "cell_type": "code",
      "source": [
        ""
      ],
      "metadata": {
        "id": "7xb0vubb7Saq"
      },
      "execution_count": 42,
      "outputs": []
    }
  ],
  "metadata": {
    "accelerator": "GPU",
    "colab": {
      "collapsed_sections": [],
      "name": "training.ipynb",
      "provenance": [],
      "toc_visible": true
    },
    "kernelspec": {
      "display_name": "Python 3",
      "name": "python3"
    },
    "language_info": {
      "name": "python"
    }
  },
  "nbformat": 4,
  "nbformat_minor": 0
}