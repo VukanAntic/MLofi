{
 "cells": [
  {
   "cell_type": "code",
   "execution_count": 6,
   "id": "ddbc9fb1",
   "metadata": {},
   "outputs": [],
   "source": [
    "import os\n",
    "from music21 import *\n",
    "import numpy as np"
   ]
  },
  {
   "cell_type": "code",
   "execution_count": 7,
   "id": "b55122b9",
   "metadata": {},
   "outputs": [],
   "source": [
    "# Dataset used : \n",
    "# https://www.kaggle.com/zakarii/lofi-hip-hop-midi/metadata\n",
    "\n",
    "rootdir = \"datasets/midi_songs_zackery\"\n",
    "\n",
    "# Holds all the notes of all of our songs!\n",
    "allSongs = []\n",
    "\n",
    "for subdirs, dirs, files in os.walk(rootdir):\n",
    "    for file in files:\n",
    "        currentSongPath = os.path.join(subdirs, file)\n",
    "        currentSongParse = converter.parse(currentSongPath)\n",
    "        currentSong = []\n",
    "        \n",
    "        for el in currentSongParse.recurse():   \n",
    "            if isinstance(el, note.Note):\n",
    "                currentSong.append(str(el.pitch))\n",
    "            elif isinstance(el, chord.Chord):\n",
    "                # try sorting it => sorting it doesnt make a change!\n",
    "                #currCord = [str(n) for n in el.pitches]\n",
    "                #currentSong.append('.'.join(sorted(currCord)))\n",
    "                #currentSong.append('.'.join(str(n) for n in el.pitches))\n",
    "                currentSong.append('.'.join(str(n) for n in el.normalOrder))\n",
    "            # For now, all of our rests will be of the duration 1 / 8 \n",
    "            # in the second part of the project, we will take their actual duration!\n",
    "            elif type(el) == note.Rest:\n",
    "                el.duration.quarterLength = 0.5\n",
    "                currentSong.append(str(el.fullName))\n",
    "                \n",
    "        allSongs.append(currentSong)\n",
    "        "
   ]
  },
  {
   "cell_type": "code",
   "execution_count": 8,
   "id": "e1403920",
   "metadata": {},
   "outputs": [],
   "source": [
    "# Padding element is supposed to signify an end to one song, and the beginning of the other\n",
    "paddingElement = note.Rest()\n",
    "paddingElement.duration.quarterLength = 16.0\n",
    "\n",
    "# Currently we are adding a padding element inbetween 2 songs \n",
    "# (might work on this in the future, if it gives bad results!)\n",
    "def flattenSongs(allSongs):\n",
    "    allNotes = []\n",
    "    \n",
    "    for song in allSongs:\n",
    "        allNotes.append(str(paddingElement.fullName))\n",
    "        for note in song:\n",
    "            allNotes.append(note)\n",
    "        \n",
    "    return allNotes \n",
    "    #maxLenOfSong = max(map(lambda l : len(l), allSongs))\n",
    "    \n",
    "    \n",
    "allNotes = flattenSongs(allSongs)\n",
    "#print(allNotes)"
   ]
  },
  {
   "cell_type": "code",
   "execution_count": 9,
   "id": "3509b640",
   "metadata": {},
   "outputs": [],
   "source": [
    "possibleValues = set(allNotes)\n",
    "mappingValuesToInt = dict()\n",
    "mappingIntToValues = dict()\n",
    "# LTSM works better with int values than with strings, so we need to map out notes (portrayed as strings) to ints\n",
    "# (we also made a mapIntToVal, so once we need some values with our model, we can return them to their actual representation)\n",
    "for i, val in enumerate(possibleValues):\n",
    "    mappingValuesToInt[val] = i\n",
    "    mappingIntToValues[i] = val\n",
    "\n",
    "# kako cemo kasnije kad imamo string, pretvoriti u note?"
   ]
  },
  {
   "cell_type": "code",
   "execution_count": 10,
   "id": "f443e34e",
   "metadata": {},
   "outputs": [
    {
     "name": "stdout",
     "output_type": "stream",
     "text": [
      "[[205 242 256 ... 242 256 205]\n",
      " [242 256 235 ... 256 205 138]\n",
      " [256 235 256 ... 205 138 256]\n",
      " ...\n",
      " [ 14 110 229 ... 252 252 252]\n",
      " [110 229 256 ... 252 252 122]\n",
      " [229 256 205 ... 252 122 122]]\n"
     ]
    }
   ],
   "source": [
    "# we will have a list of 20 values for an input, and the output will be a single value\n",
    "# our model needs to \"figure out\" what the next note will be using the previous 20 notes!\n",
    "seqLen = 20\n",
    "\n",
    "# TODO: FUTURE IDEAS\n",
    "# in the future, we might change test out what diffrence does it make when we use a diffrent seqLen\n",
    "# for instance, seqLen = [1, 5, 10, 20, 100, ...]\n",
    "\n",
    "# inputs and outputs for our model\n",
    "X = []\n",
    "Y = []    \n",
    "    \n",
    "for i in range(seqLen, len(allNotes)):\n",
    "    \n",
    "    inputValues = allNotes[i - seqLen : i]\n",
    "    outputValues = allNotes[i]\n",
    "    \n",
    "    X.append([mappingValuesToInt[note]  for note in inputValues]);\n",
    "    Y.append(mappingValuesToInt[outputValues]);\n",
    "\n",
    "# Why do we need the 1 at the end??\n",
    "X = np.reshape(X, (len(X), seqLen, 1))\n",
    "# need to add normalization for X\n",
    "print(X)"
   ]
  },
  {
   "cell_type": "code",
   "execution_count": null,
   "id": "8906a7c9",
   "metadata": {},
   "outputs": [],
   "source": []
  },
  {
   "cell_type": "code",
   "execution_count": null,
   "id": "fb304810",
   "metadata": {},
   "outputs": [],
   "source": []
  },
  {
   "cell_type": "code",
   "execution_count": null,
   "id": "10859547",
   "metadata": {},
   "outputs": [],
   "source": []
  }
 ],
 "metadata": {
  "kernelspec": {
   "display_name": "Python 3 (ipykernel)",
   "language": "python",
   "name": "python3"
  },
  "language_info": {
   "codemirror_mode": {
    "name": "ipython",
    "version": 3
   },
   "file_extension": ".py",
   "mimetype": "text/x-python",
   "name": "python",
   "nbconvert_exporter": "python",
   "pygments_lexer": "ipython3",
   "version": "3.8.10"
  }
 },
 "nbformat": 4,
 "nbformat_minor": 5
}
